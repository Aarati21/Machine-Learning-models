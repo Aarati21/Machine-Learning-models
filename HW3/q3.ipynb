{
 "cells": [
  {
   "cell_type": "markdown",
   "metadata": {},
   "source": [
    "# Principal Component Analysis\n",
    "The goal of this question is to build a conceptual understanding of dimensionality reduction using PCA and implement it on a toy dataset. You’ll only have to use numpy and matplotlib for this question."
   ]
  },
  {
   "cell_type": "code",
   "execution_count": null,
   "metadata": {},
   "outputs": [],
   "source": []
  },
  {
   "cell_type": "code",
   "execution_count": 37,
   "metadata": {},
   "outputs": [],
   "source": [
    "import numpy as np\n",
    "import matplotlib.pyplot as plt\n",
    "# (a) Load data (features)\n",
    "def load_data():\n",
    "    data=np.load('q3-data\\\\features.npy') \n",
    "    \n",
    "    for i in range(len(data[0])):\n",
    "        \n",
    "        data[:,i]=(data[:,i]-(data[:,i].mean()))/(data[:,i].std())\n",
    "        \n",
    "    return data\n",
    "\n",
    "X=load_data()\n"
   ]
  },
  {
   "cell_type": "code",
   "execution_count": 38,
   "metadata": {},
   "outputs": [
    {
     "name": "stdout",
     "output_type": "stream",
     "text": [
      "The eigen values in descending order are: [ 4.743e+00  2.296e+00  7.769e-01  2.042e-01  3.377e-02  1.019e-16\n",
      " -1.048e-17 -2.066e-16]\n"
     ]
    }
   ],
   "source": [
    "# (b) Perform eigen decomposition and return eigen pairs in desecending order of eigen values\n",
    "def eigendecomp(X):   \n",
    "    mu = np.mean(X, axis=0)\n",
    "    n=X.shape[0]\n",
    "    cov = (X - mu).T.dot((X- mu)) / (n-1)\n",
    "    \n",
    "    eigenValues, eigenVectors = np.linalg.eig(cov)\n",
    "    eigenVectors=eigenVectors.T\n",
    "    \n",
    "    idx = eigenValues.argsort()[::-1]   \n",
    "    sorted_eig_vals = eigenValues[idx]\n",
    "    sorted_eig_vecs = eigenVectors[:, idx]\n",
    "    \n",
    "    return (sorted_eig_vals, sorted_eig_vecs)\n",
    "eig_values, eig_vectors=eigendecomp(X)\n",
    "print('The eigen values in descending order are:',eig_values)"
   ]
  },
  {
   "cell_type": "code",
   "execution_count": 42,
   "metadata": {},
   "outputs": [],
   "source": [
    "# (c) Evaluate using variance_explained as the metric\n",
    "def eval():\n",
    "    f=[]\n",
    "    s=0\n",
    "    l=[]\n",
    "    \n",
    "    eig_values, eig_vectors=eigendecomp(X)\n",
    "    k=len(eig_values)\n",
    "    sum_eigenvalues = sum(eig_values)\n",
    "    for i in eig_values:\n",
    "        frac_variance = (i / sum_eigenvalues)*100 \n",
    "        f.append(frac_variance)\n",
    "    for i in f:\n",
    "        s=s+i\n",
    "        l.append(s)\n",
    "    v=np.asarray(f)\n",
    "    cum_var=np.asarray(l)  \n",
    "    dim=np.arange(1,k+1, 1)\n",
    "    a=np.hstack((dim.reshape(-1,1), eig_values.reshape(-1,1)))\n",
    "    b=['dimension', 'eigen values']\n",
    "    b=np.asarray(b)\n",
    "    m1=np.row_stack((b,a))\n",
    "    a=np.hstack((dim.reshape(-1,1), cum_var.reshape(-1,1)))\n",
    "    b=['dimension',  'variance as a function of k']\n",
    "    b=np.asarray(b)\n",
    "    m2=np.row_stack((b,a))\n",
    "    print(m1)\n",
    "    print(m2)\n",
    "    return(m1,m2)\n",
    "\n",
    "\n"
   ]
  },
  {
   "cell_type": "code",
   "execution_count": 45,
   "metadata": {},
   "outputs": [],
   "source": [
    "# (d) Visualize after projecting to 2-D space\n",
    "def viz():\n",
    "    mat = np.hstack((eig_vectors[0].reshape(-1,1),\n",
    "                      eig_vectors[1].reshape(-1,1)))\n",
    "    \n",
    "   \n",
    "    Y=X.dot(mat)\n",
    "    #print(Y)\n",
    "    labels=np.load('q3-data\\\\labels.npy') \n",
    "    \n",
    "    plt.scatter(Y[labels==0][:,0], Y[labels==0][:,1])\n",
    "    plt.scatter(Y[labels==1][:,0], Y[labels==1][:,1])\n",
    "    plt.scatter(Y[labels==2][:,0], Y[labels==2][:,1])\n",
    "    plt.legend(['0','1','2' ])\n",
    "    plt.show()\n",
    "    \n"
   ]
  },
  {
   "cell_type": "code",
   "execution_count": 46,
   "metadata": {},
   "outputs": [
    {
     "name": "stdout",
     "output_type": "stream",
     "text": [
      "[['dimension' 'eigen values']\n",
      " ['1.0' '4.742989609365717']\n",
      " ['2.0' '2.2958530862227144']\n",
      " ['3.0' '0.7769105123670556']\n",
      " ['4.0' '0.20417290116163914']\n",
      " ['5.0' '0.03376516605065367']\n",
      " ['6.0' '1.0190690690125968e-16']\n",
      " ['7.0' '-1.047998000937628e-17']\n",
      " ['8.0' '-2.0655424267425319e-16']]\n",
      "[['dimension' 'variance as a function of k']\n",
      " ['1.0' '58.8921209829577']\n",
      " ['2.0' '87.3989634702231']\n",
      " ['3.0' '97.04560233211404']\n",
      " ['4.0' '99.5807491882044']\n",
      " ['5.0' '100.00000000000001']\n",
      " ['6.0' '100.00000000000001']\n",
      " ['7.0' '100.00000000000001']\n",
      " ['8.0' '100.00000000000001']]\n"
     ]
    },
    {
     "data": {
      "image/png": "[encoded data removed]",
      "text/plain": [
       "<Figure size 432x288 with 1 Axes>"
      ]
     },
     "metadata": {},
     "output_type": "display_data"
    }
   ],
   "source": [
    "def main():\n",
    "\n",
    "    eval()\n",
    "    viz()\n",
    "\n",
    "if __name__ == \"__main__\":\n",
    "    main()"
   ]
  },
  {
   "cell_type": "markdown",
   "metadata": {},
   "source": [
    "k=3 is the dimensionality to chooses as 97.04 percent of variance is accounted for and it is easy to project it 3d space.\n",
    "However if you want 100 percent variance whilst compromising on visual representation, k=5 should be chosen."
   ]
  },
  {
   "cell_type": "markdown",
   "metadata": {},
   "source": [
    "(e1): If the number of features is 1000 and the number of data points is 10, what will be the dimension of your covariance matrix? Can you suggest what can be changed to improve the performance?"
   ]
  },
  {
   "cell_type": "raw",
   "metadata": {},
   "source": [
    "The covariance matrix should be of dimension 1000 *1000 using the formula.\n",
    "\n",
    "However in such a situation PCA fails. Covariance matrix is combined of vectors projected orthogonally down into a lower dimension linear subspace denoting variance. Since there are only hundred data points, variance will be computed for one less i.e. 99 data points. The rank of the matrix is 9\n",
    "\n",
    "Increase the number of data points or reducing the number of features(combining them or eliminating unnecessary ones) Bootstrapping  cross validation with replacement will improve the performance. The data is broken up into train and test sets each sampled n times which count for iterations and the results are cross -validated. If you want a sample to occur only once,\n",
    "shuffle split cross validation is used instead."
   ]
  },
  {
   "cell_type": "raw",
   "metadata": {},
   "source": [
    "(e2): Assume you have a dataset with the original dimensionality as 2 and you have to reduce it to 1. Provide a sample scatter plot of the original data (less than 10 datapoints) where PCA might produce misleading results. You can plot it by hand and then take a picture. In the next cell, switch to Markdown mode and use the command: ![title](<your_plot_file_path>)"
   ]
  },
  {
   "cell_type": "markdown",
   "metadata": {},
   "source": [
    "![PCA -m](pca -m.jpg)>\n"
   ]
  },
  {
   "cell_type": "code",
   "execution_count": null,
   "metadata": {},
   "outputs": [],
   "source": []
  }
 ],
 "metadata": {
  "kernelspec": {
   "display_name": "Python 3",
   "language": "python",
   "name": "python3"
  },
  "language_info": {
   "codemirror_mode": {
    "name": "ipython",
    "version": 3
   },
   "file_extension": ".py",
   "mimetype": "text/x-python",
   "name": "python",
   "nbconvert_exporter": "python",
   "pygments_lexer": "ipython3",
   "version": "3.6.5"
  }
 },
 "nbformat": 4,
 "nbformat_minor": 2
}
