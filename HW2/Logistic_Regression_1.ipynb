{
 "cells": [
  {
   "cell_type": "code",
   "execution_count": 1,
   "metadata": {},
   "outputs": [],
   "source": [
    "# Import all the package you need to use:"
   ]
  },
  {
   "cell_type": "code",
   "execution_count": 2,
   "metadata": {},
   "outputs": [],
   "source": [
    "import csv\n",
    "import numpy as np\n",
    "import matplotlib.pyplot as plt\n",
    "import scipy.optimize as opt"
   ]
  },
  {
   "cell_type": "code",
   "execution_count": 3,
   "metadata": {},
   "outputs": [],
   "source": [
    "# Load the data:"
   ]
  },
  {
   "cell_type": "code",
   "execution_count": 4,
   "metadata": {},
   "outputs": [],
   "source": [
    "with open('P2data1.txt') as csv_file:\n",
    "    dataset = list(csv.reader(csv_file, delimiter=','))\n",
    "    data=np.array([np.array(xi) for xi in dataset])\n",
    "    data=np.transpose(data)\n",
    "    X1=data[0]\n",
    "    X2=data[1]\n",
    "    X=np.column_stack((X1,X2)).astype(np.float)\n",
    "    Y=data[2].astype(np.float)\n",
    "    n=len(X)\n",
    "    \n",
    "    "
   ]
  },
  {
   "cell_type": "code",
   "execution_count": 5,
   "metadata": {},
   "outputs": [],
   "source": [
    "# Plot the data:"
   ]
  },
  {
   "cell_type": "code",
   "execution_count": 6,
   "metadata": {},
   "outputs": [
    {
     "data": {
      "image/png": "[encoded data removed]",
      "text/plain": [
       "<Figure size 1440x360 with 1 Axes>"
      ]
     },
     "metadata": {},
     "output_type": "display_data"
    }
   ],
   "source": [
    "plt.figure(figsize=(20,5))\n",
    "#plt.plot(X,Y)\n",
    "plt.scatter(X[Y==0][:,0], X[Y==0][:,1],color='k')\n",
    "plt.scatter(X[Y==1][:,0], X[Y==1][:,1],color='c')\n",
    "plt.legend(['0','1'], fontsize='12')\n",
    "plt.show()"
   ]
  },
  {
   "cell_type": "code",
   "execution_count": 7,
   "metadata": {},
   "outputs": [],
   "source": [
    "# Define the sigmoid function:"
   ]
  },
  {
   "cell_type": "code",
   "execution_count": 8,
   "metadata": {},
   "outputs": [],
   "source": [
    "def sigmoid(z):\n",
    "    return 1/(1+np.exp(-z))\n",
    "\n",
    "    "
   ]
  },
  {
   "cell_type": "code",
   "execution_count": 9,
   "metadata": {},
   "outputs": [],
   "source": [
    "# Define the compute cost function:"
   ]
  },
  {
   "cell_type": "code",
   "execution_count": 10,
   "metadata": {},
   "outputs": [],
   "source": [
    "def compute_cost(theta, X, Y):\n",
    "    theta = np.matrix(theta)\n",
    "    X = np.matrix(X)\n",
    "    Y=Y.reshape(-1,1)\n",
    "    Y = np.matrix(Y)\n",
    "    J =((np.multiply(-Y, np.log(sigmoid(X * theta.T))))-(np.multiply((1 - Y), np.log(1 - sigmoid(X * theta.T))))).mean()\n",
    "    return J"
   ]
  },
  {
   "cell_type": "code",
   "execution_count": 11,
   "metadata": {},
   "outputs": [],
   "source": [
    "# Define the compute gradient function:"
   ]
  },
  {
   "cell_type": "code",
   "execution_count": 12,
   "metadata": {},
   "outputs": [],
   "source": [
    "def gradient(theta, X, Y):\n",
    "    theta = np.matrix(theta)\n",
    "    \n",
    "    X = np.matrix(X)\n",
    "    Y=Y.reshape(-1,1)\n",
    "    Y = np.matrix(Y)\n",
    "    \n",
    "    k=theta.shape[1]\n",
    "    g = np.zeros(k)\n",
    "    #print(theta, X)\n",
    "    p = sigmoid(X*theta.T) -Y\n",
    "    \n",
    "    for i in range(k):\n",
    "        g[i] = np.multiply(p, X[:,i]).mean()\n",
    "        \n",
    "    \n",
    "    return g"
   ]
  },
  {
   "cell_type": "code",
   "execution_count": 13,
   "metadata": {},
   "outputs": [],
   "source": [
    "# Compute cost and gradient (The initial cost should be 0.69314718):"
   ]
  },
  {
   "cell_type": "code",
   "execution_count": 14,
   "metadata": {},
   "outputs": [
    {
     "name": "stdout",
     "output_type": "stream",
     "text": [
      "The initial cost is: 0.6931471805599453\n",
      "The gradient is: [ -0.1        -12.00921659 -11.26284221]\n"
     ]
    }
   ],
   "source": [
    "ones=(np.ones(n)).reshape(-1,1)\n",
    "X=np.hstack((ones,X))\n",
    "theta=np.zeros(3)\n",
    "g=gradient(theta, X, Y)\n",
    "#X.shape, Y.shape, theta.shape\n",
    "cost=compute_cost(theta, X, Y)\n",
    "print(\"The initial cost is:\", cost)\n",
    "print(\"The gradient is:\", g)\n",
    "\n"
   ]
  },
  {
   "cell_type": "code",
   "execution_count": 15,
   "metadata": {},
   "outputs": [
    {
     "name": "stdout",
     "output_type": "stream",
     "text": [
      "The optimal weights are: [-25.16131876   0.20623159   0.20147149]\n",
      "The optimal cost is: 0.20349770158947397\n"
     ]
    }
   ],
   "source": [
    "# Optimize the cost to find the minimum cost by using fmin_tnc:\n",
    "# The optimal cost should be 0.20349\n",
    "\n",
    "weights = opt.fmin_tnc(func=compute_cost, x0=theta, fprime=gradient, args=(X, Y))\n",
    "w=weights[0]\n",
    "print('The optimal weights are:',w)\n",
    "print('The optimal cost is:',compute_cost(w, X, Y))"
   ]
  },
  {
   "cell_type": "code",
   "execution_count": null,
   "metadata": {},
   "outputs": [],
   "source": []
  },
  {
   "cell_type": "code",
   "execution_count": 16,
   "metadata": {},
   "outputs": [],
   "source": [
    "# Define a predict function to calculate the result:"
   ]
  },
  {
   "cell_type": "code",
   "execution_count": 17,
   "metadata": {},
   "outputs": [],
   "source": [
    "def predict(w, X):\n",
    "    X=np.matrix(X)\n",
    "    h=sigmoid(X*w.T)\n",
    "    h1=h.round()\n",
    "    A=(h, )\n",
    "    return h1"
   ]
  },
  {
   "cell_type": "code",
   "execution_count": 18,
   "metadata": {},
   "outputs": [],
   "source": [
    "# Find the accuracy of the logistic regression:"
   ]
  },
  {
   "cell_type": "code",
   "execution_count": 19,
   "metadata": {},
   "outputs": [
    {
     "name": "stdout",
     "output_type": "stream",
     "text": [
      "The accuracy from  calculation of logistic regression is: 89.0\n"
     ]
    }
   ],
   "source": [
    "accuracy=predict(X,w)\n",
    "p=(accuracy == Y).mean()\n",
    "print('The accuracy from  calculation of logistic regression is:',p*100)"
   ]
  },
  {
   "cell_type": "code",
   "execution_count": 20,
   "metadata": {},
   "outputs": [],
   "source": [
    "# Plot the data and boundary:"
   ]
  },
  {
   "cell_type": "code",
   "execution_count": 21,
   "metadata": {},
   "outputs": [
    {
     "data": {
      "image/png": "[encoded data removed]",
      "text/plain": [
       "<Figure size 1440x360 with 1 Axes>"
      ]
     },
     "metadata": {},
     "output_type": "display_data"
    }
   ],
   "source": [
    "import scipy\n",
    "with open('P2data1.txt') as csv_file:\n",
    "    dataset = list(csv.reader(csv_file, delimiter=','))\n",
    "    data=np.array([np.array(xi) for xi in dataset])\n",
    "    data=np.transpose(data)\n",
    "    X1=data[0]\n",
    "    X2=data[1]\n",
    "    X=np.column_stack((X1,X2)).astype(np.float)\n",
    "    Y=data[2].astype(np.float)\n",
    "plt.figure(figsize=(20,5))\n",
    "\n",
    "plt.scatter(X[Y==0][:,0], X[Y==0][:,1],color='k')\n",
    "plt.scatter(X[Y==1][:,0], X[Y==1][:,1],color='c')\n",
    "xPlot = scipy.linspace(min(X[:, 0]), max(X[:, 0]), 100)\n",
    "plt.plot(xPlot, -w[0] / w[2] - w[1] / w[2] * xPlot)\n",
    "plt.legend(['0','1'], fontsize='12')\n",
    "plt.show()"
   ]
  },
  {
   "cell_type": "code",
   "execution_count": null,
   "metadata": {},
   "outputs": [],
   "source": []
  }
 ],
 "metadata": {
  "kernelspec": {
   "display_name": "Python 3",
   "language": "python",
   "name": "python3"
  },
  "language_info": {
   "codemirror_mode": {
    "name": "ipython",
    "version": 3
   },
   "file_extension": ".py",
   "mimetype": "text/x-python",
   "name": "python",
   "nbconvert_exporter": "python",
   "pygments_lexer": "ipython3",
   "version": "3.6.5"
  }
 },
 "nbformat": 4,
 "nbformat_minor": 2
}
