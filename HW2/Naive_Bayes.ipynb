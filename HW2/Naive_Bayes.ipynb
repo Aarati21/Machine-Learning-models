{
 "cells": [
  {
   "cell_type": "code",
   "execution_count": 1,
   "metadata": {},
   "outputs": [],
   "source": [
    "# Import all the package you need to use:"
   ]
  },
  {
   "cell_type": "code",
   "execution_count": 2,
   "metadata": {},
   "outputs": [],
   "source": [
    "import numpy as np\n",
    "import glob\n",
    "import matplotlib.pyplot as plt\n",
    "import csv\n",
    "import math\n",
    "import re"
   ]
  },
  {
   "cell_type": "code",
   "execution_count": 3,
   "metadata": {},
   "outputs": [],
   "source": [
    "# Define a function to get the file list for \n",
    "# each type of data from dataset:"
   ]
  },
  {
   "cell_type": "code",
   "execution_count": 4,
   "metadata": {},
   "outputs": [],
   "source": [
    "def traindata():\n",
    "    postrain=glob.glob(\"hw2_dataset_nb\\\\hw2_dataset_nb\\\\train\\\\pos\\\\*.txt\")\n",
    "    negtrain=glob.glob(\"hw2_dataset_nb\\\\hw2_dataset_nb\\\\train\\\\neg\\\\*.txt\")\n",
    "    return postrain, negtrain\n",
    "def testdata():\n",
    "    postest=glob.glob(\"hw2_dataset_nb\\\\hw2_dataset_nb\\\\test\\\\pos\\\\*.txt\")\n",
    "    negtest=glob.glob(\"hw2_dataset_nb\\\\hw2_dataset_nb\\\\test\\\\neg\\\\*.txt\")\n",
    "    return postest, negtest"
   ]
  },
  {
   "cell_type": "code",
   "execution_count": 5,
   "metadata": {},
   "outputs": [],
   "source": [
    "# Define a function to read all the files for \n",
    "# each category of training data:"
   ]
  },
  {
   "cell_type": "code",
   "execution_count": 6,
   "metadata": {},
   "outputs": [],
   "source": [
    "def fun(train_list):\n",
    "    l=[]\n",
    "    d={}\n",
    "    \n",
    "    for i in train_list:\n",
    "        file=open(i)\n",
    "        for line in file:\n",
    "            words=re.split(' |,|-', line)\n",
    "            for word in words:\n",
    "                word=word.lower()\n",
    "                \n",
    "                if word not in d:\n",
    "                    d[word] = 0 \n",
    "                d[word] += 1\n",
    "                \n",
    "    \n",
    "    return(d)\n",
    "    \n",
    "p_train, n_train=traindata()#list of file names of positive and negative training data\n",
    "p_test, n_test=testdata()#list of file names of positive and negative test data\n",
    "\n",
    "\n",
    "dict_pos=(fun(p_train))#dictionary of positively classified words\n",
    "dict_neg=(fun(n_train))#dictionary of negatively classified words\n"
   ]
  },
  {
   "cell_type": "code",
   "execution_count": 7,
   "metadata": {},
   "outputs": [],
   "source": [
    "# Define a function to calculate the bayes product:"
   ]
  },
  {
   "cell_type": "code",
   "execution_count": 8,
   "metadata": {},
   "outputs": [],
   "source": [
    "def bayes_product(bow, a):#with Laplace smoothing\n",
    "    fp=[]\n",
    "    fn=[]\n",
    "    i=0\n",
    "    j=0\n",
    "    for word in bow:\n",
    "        \n",
    "        if (word in dict_pos):\n",
    "            fp.append(dict_pos[word])\n",
    "        else:\n",
    "            fp.append(a)\n",
    "            \n",
    "        if (word in dict_neg):\n",
    "            fn.append(dict_neg[word])\n",
    "        else:\n",
    "            fn.append(a)\n",
    "            \n",
    "    #print(fn, fp)\n",
    "    freqpos=np.asarray(fp)\n",
    "    #print(freqpos)#array of frequencies of positive words of each file in dictionary\n",
    "    freqneg=np.asarray(fn)\n",
    "    \n",
    "    lendict_pos=sum(dict_pos.values())*(1+a)\n",
    "    #print(lendict_pos)\n",
    "    lendict_neg=sum(dict_neg.values())*(1+a)\n",
    "    #print(lendict_neg)\n",
    "    probpos=(np.log(freqpos/lendict_pos)).sum()+math.log(0.5)\n",
    "    #print(probpos)\n",
    "    \n",
    "    probneg=(np.log(freqneg/lendict_neg)).sum()+math.log(0.5)\n",
    "    #print(probneg)\n",
    "    return probpos, probneg"
   ]
  },
  {
   "cell_type": "code",
   "execution_count": 9,
   "metadata": {},
   "outputs": [],
   "source": [
    "# Define a function to test the naive bayes classifier:"
   ]
  },
  {
   "cell_type": "code",
   "execution_count": 10,
   "metadata": {},
   "outputs": [],
   "source": [
    "def bow_file(testfile):#returns bag of words for each test file\n",
    "    d={}\n",
    "    bow=[]\n",
    "    file=open(testfile)\n",
    "    for line in file:\n",
    "        words=re.split(' |,|-', line)\n",
    "        for word in words:\n",
    "            word=word.lower()\n",
    "            if word not in bow:\n",
    "                bow.append(word)   \n",
    "    \n",
    "    return(bow)"
   ]
  },
  {
   "cell_type": "code",
   "execution_count": 11,
   "metadata": {},
   "outputs": [],
   "source": [
    "def classifier(files, a):\n",
    "    tag=[]\n",
    "    for file in files:\n",
    "        bow=bow_file(file)\n",
    "        prob_pos, prob_neg=bayes_product(bow, a)\n",
    "        if(prob_pos>prob_neg):\n",
    "            tag.append(1)\n",
    "        else:\n",
    "            tag.append(0)\n",
    "    return tag  #a list of 1s and 0s for positive and negative respectively"
   ]
  },
  {
   "cell_type": "code",
   "execution_count": 12,
   "metadata": {},
   "outputs": [],
   "source": [
    "# Initialize the alpha\n",
    "# Get the whole data list for different types of data\n",
    "# Read and save all the data from dataset\n",
    "# Find the positive accuracy and negative accuracy"
   ]
  },
  {
   "cell_type": "code",
   "execution_count": 13,
   "metadata": {},
   "outputs": [
    {
     "name": "stdout",
     "output_type": "stream",
     "text": [
      "The accuracy for alpha is 1 is:  82.556\n"
     ]
    }
   ],
   "source": [
    "a=1\n",
    "tagpos=classifier(p_test,a)\n",
    "tagneg=classifier(n_test,a)\n",
    "lpos=np.asarray(tagpos)\n",
    "lneg=np.asarray(tagneg)\n",
    "true_positive=lpos.sum()\n",
    "false_negative=len(lpos)-true_positive\n",
    "false_positive=lneg.sum()\n",
    "true_negative=len(lneg)-false_positive\n",
    "accuracy=(true_positive+true_negative)*100/(len(lpos)+len(lneg))\n",
    "print('The accuracy for alpha is 1 is: ', accuracy)\n"
   ]
  },
  {
   "cell_type": "code",
   "execution_count": 14,
   "metadata": {},
   "outputs": [
    {
     "name": "stdout",
     "output_type": "stream",
     "text": [
      "The confusion matrix is:\n",
      "[['True Negative' 'False positive']\n",
      " ['False Negative' 'True_positive']]\n",
      "[[11140  1360]\n",
      " [ 3001  9499]]\n"
     ]
    }
   ],
   "source": [
    "\n",
    "from astropy.table import Table\n",
    "a = ['Positive class', 'Negative class']\n",
    "b = [true_positive, false_positive]\n",
    "c = [false_negative,true_negative]\n",
    "t = Table([a, b, c], names=('Con matrix', 'True', 'False'))\n",
    "print('The confusion matrix is:')\n",
    "confusion=np.array([[true_negative, false_positive],[false_negative, true_positive]])\n",
    "print(np.array([['True Negative', 'False positive'],['False Negative', 'True_positive']]))\n",
    "print(confusion)"
   ]
  },
  {
   "cell_type": "code",
   "execution_count": 15,
   "metadata": {},
   "outputs": [
    {
     "name": "stdout",
     "output_type": "stream",
     "text": [
      "[76.64, 78.28, 79.864, 81.54, 82.556, 81.876, 79.812, 76.592]\n"
     ]
    }
   ],
   "source": [
    "alpha=[0.0001,0.001, 0.01,0.1, 1, 10, 100, 1000]\n",
    "l=[]\n",
    "for a in alpha:\n",
    "    \n",
    "    v=a\n",
    "    tagpos=classifier(p_test,v)\n",
    "    tagneg=classifier(n_test,v)\n",
    "    lpos=np.asarray(tagpos)\n",
    "    lneg=np.asarray(tagneg)\n",
    "    true_positive=lpos.sum()\n",
    "    false_positive=len(lpos)-true_positive\n",
    "    false_negative=lneg.sum()\n",
    "    true_negative=len(lneg)-false_negative\n",
    "    accuracy=(true_positive+true_negative)*100/(len(lpos)+len(lneg))\n",
    "    l.append(accuracy)\n",
    "    \n",
    "\n",
    "\n",
    "print(l)\n",
    "\n",
    "\n"
   ]
  },
  {
   "cell_type": "code",
   "execution_count": 16,
   "metadata": {},
   "outputs": [
    {
     "data": {
      "image/png": "[encoded data removed]",
      "text/plain": [
       "<Figure size 432x288 with 1 Axes>"
      ]
     },
     "metadata": {},
     "output_type": "display_data"
    }
   ],
   "source": [
    "import matplotlib.pyplot as plt\n",
    "l1=np.asarray(l)\n",
    "a=np.array(alpha)\n",
    "a1=np.log(a)\n",
    "plt.plot(a1, l1, linewidth=2,marker='o', color='r')\n",
    "plt.xlabel('log(alpha)')\n",
    "plt.ylabel('accuracy')\n",
    "plt.show()"
   ]
  },
  {
   "cell_type": "code",
   "execution_count": null,
   "metadata": {},
   "outputs": [],
   "source": [
    "Alpha is the laplace smoothing factor.\n",
    "Very high alpha means high weightage to a word not existing in the \n",
    "dictionary before. Less weightage is given to existing words frequency and hence they\n",
    "will have similar probabilities irrespective. This is wrong because more weightage should\n",
    "be given to existing words.\n",
    "\n",
    "Low alpha means low weightage to a new word not existing in the dictionary. This leads to \n",
    "a less accurate classification."
   ]
  }
 ],
 "metadata": {
  "kernelspec": {
   "display_name": "Python 3",
   "language": "python",
   "name": "python3"
  },
  "language_info": {
   "codemirror_mode": {
    "name": "ipython",
    "version": 3
   },
   "file_extension": ".py",
   "mimetype": "text/x-python",
   "name": "python",
   "nbconvert_exporter": "python",
   "pygments_lexer": "ipython3",
   "version": "3.6.5"
  }
 },
 "nbformat": 4,
 "nbformat_minor": 2
}
