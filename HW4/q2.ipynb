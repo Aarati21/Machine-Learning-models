{
 "cells": [
  {
   "cell_type": "markdown",
   "metadata": {},
   "source": [
    "# Simple Neural Network trained on MNIST dataset"
   ]
  },
  {
   "cell_type": "code",
   "execution_count": 1,
   "metadata": {},
   "outputs": [],
   "source": [
    "# importing all the required libraries, ensure that there are no errors that pop up\n",
    "import torch\n",
    "import torchvision\n",
    "import torch.nn as nn\n",
    "import torchvision.transforms as transforms\n",
    "import numpy as np"
   ]
  },
  {
   "cell_type": "markdown",
   "metadata": {},
   "source": [
    "### Loading up MNIST dataset\n",
    "\n",
    "MNIST handwritten digits dataset contains 60000 training images and 10000 test images. We'll be using the training images to train our model and then calculate the test accuracy. Load up train and test MNIST dataset variables from torchvision.datasets.MNIST. \n",
    "\n",
    "Remember to set the transform parameter to transforms.ToTensor() as we are working with Pytorch Tensors and not PIL images, also set the root as '../data/', i.e outside your assignment directory. This is to ensure that we would not be downloading the dataset for every assignment submission, the data directory on the TAs laptop would be located right outside your submission directory. \n",
    "\n",
    "If the dataset is downloaded or throws up an error due to root saved as an absolute path then 10-30% awarded for the current question will be deducted during grading."
   ]
  },
  {
   "cell_type": "code",
   "execution_count": 2,
   "metadata": {},
   "outputs": [],
   "source": [
    "mnist_train = None\n",
    "mnist_test = None\n",
    "mnist_train = torchvision.datasets.MNIST(root='./data',train=True, transform=transforms.ToTensor())\n",
    "\n",
    "mnist_test = torchvision.datasets.MNIST(root='./data',train=False, transform=transforms.ToTensor())\n",
    "\n",
    "\n"
   ]
  },
  {
   "cell_type": "markdown",
   "metadata": {},
   "source": [
    "### Building the network model\n",
    "\n",
    "Fill up the class SimpleNeuralNet."
   ]
  },
  {
   "cell_type": "code",
   "execution_count": 3,
   "metadata": {},
   "outputs": [],
   "source": [
    "class SimpleNeuralNet(nn.Module):\n",
    "    def __init__(self, input_nodes, hidden_nodes, output_nodes):\n",
    "        super(SimpleNeuralNet, self).__init__()\n",
    "        self.l1=nn.Linear(input_nodes, hidden_nodes)\n",
    "        self.relu=nn.ReLU()\n",
    "        self.l2=nn.Linear(hidden_nodes, output_nodes)\n",
    "        pass\n",
    "\n",
    "    def forward(self, x):\n",
    "        output=self.l1(x)\n",
    "        output=self.relu(output)\n",
    "        output=self.l2(output)\n",
    "        pass\n",
    "    \n",
    "        return output"
   ]
  },
  {
   "cell_type": "markdown",
   "metadata": {},
   "source": [
    "### Set up some training parameters\n"
   ]
  },
  {
   "cell_type": "code",
   "execution_count": 4,
   "metadata": {},
   "outputs": [],
   "source": [
    "batch_size = 100\n",
    "input_dimension = 784\n",
    "hidden_dimension = 100\n",
    "output_dimension = 10\n",
    "learning_rate = 0.005\n",
    "num_epochs = 4"
   ]
  },
  {
   "cell_type": "markdown",
   "metadata": {},
   "source": [
    "### Training objects\n",
    "\n",
    "Set up the training and test dataloaders, create an instance of the neural net and identify and set the loss criterion. Use Adam optimizer to optimize the network. Also the Network we are training will have 784 input nodes, 100 hidden nodes and 10 output nodes."
   ]
  },
  {
   "cell_type": "code",
   "execution_count": 5,
   "metadata": {},
   "outputs": [],
   "source": [
    "train_dataloader = None\n",
    "test_dataloader = None\n",
    "train_dataloader = torch.utils.data.DataLoader(dataset=mnist_train, batch_size=batch_size, shuffle=True)\n",
    "test_dataloader = torch.utils.data.DataLoader(dataset=mnist_test, batch_size=batch_size, shuffle=False)\n",
    "\n",
    "neural_net = None\n",
    "model = SimpleNeuralNet(input_dimension, hidden_dimension, output_dimension)\n",
    "criterion = None\n",
    "criterion = nn.CrossEntropyLoss()\n",
    "optimizer = None\n",
    "optimizer = torch.optim.Adam(model.parameters(), lr=learning_rate)"
   ]
  },
  {
   "cell_type": "markdown",
   "metadata": {},
   "source": [
    "### Training the model\n",
    "\n",
    "Now that we have all the training objects in place, lets train the model for epochs defined by num_epochs. Remember to reshape the variable before passing into the network. Also answer the following question.\n",
    "\n",
    "#### What does the first dimension in the images and labels variable represent?\n",
    "Ans: It represents batch size of MNIST images. Dimension 32  \n"
   ]
  },
  {
   "cell_type": "code",
   "execution_count": 6,
   "metadata": {},
   "outputs": [
    {
     "name": "stdout",
     "output_type": "stream",
     "text": [
      "Epoch is 1/4, Step is 100/600, Loss is: 0.2911\n",
      "Epoch is 1/4, Step is 200/600, Loss is: 0.3958\n",
      "Epoch is 1/4, Step is 300/600, Loss is: 0.2075\n",
      "Epoch is 1/4, Step is 400/600, Loss is: 0.1070\n",
      "Epoch is 1/4, Step is 500/600, Loss is: 0.2021\n",
      "Epoch is 1/4, Step is 600/600, Loss is: 0.2783\n",
      "Epoch is 2/4, Step is 100/600, Loss is: 0.1580\n",
      "Epoch is 2/4, Step is 200/600, Loss is: 0.0703\n",
      "Epoch is 2/4, Step is 300/600, Loss is: 0.1697\n",
      "Epoch is 2/4, Step is 400/600, Loss is: 0.1352\n",
      "Epoch is 2/4, Step is 500/600, Loss is: 0.0812\n",
      "Epoch is 2/4, Step is 600/600, Loss is: 0.0950\n",
      "Epoch is 3/4, Step is 100/600, Loss is: 0.1084\n",
      "Epoch is 3/4, Step is 200/600, Loss is: 0.1497\n",
      "Epoch is 3/4, Step is 300/600, Loss is: 0.0728\n",
      "Epoch is 3/4, Step is 400/600, Loss is: 0.1167\n",
      "Epoch is 3/4, Step is 500/600, Loss is: 0.0290\n",
      "Epoch is 3/4, Step is 600/600, Loss is: 0.1275\n",
      "Epoch is 4/4, Step is 100/600, Loss is: 0.0396\n",
      "Epoch is 4/4, Step is 200/600, Loss is: 0.1548\n",
      "Epoch is 4/4, Step is 300/600, Loss is: 0.0367\n",
      "Epoch is 4/4, Step is 400/600, Loss is: 0.0506\n",
      "Epoch is 4/4, Step is 500/600, Loss is: 0.0662\n",
      "Epoch is 4/4, Step is 600/600, Loss is: 0.0365\n"
     ]
    }
   ],
   "source": [
    "\n",
    "\n",
    "for epoch in range(num_epochs):\n",
    "    for iter, (images, labels) in enumerate(train_dataloader):  \n",
    "        \n",
    "        images = images.reshape(-1, 28*28)\n",
    "        outputs = model(images)\n",
    "        loss = criterion(outputs, labels)\n",
    "        \n",
    "        optimizer.zero_grad()\n",
    "        loss.backward()\n",
    "        optimizer.step()\n",
    "        \n",
    "        if (iter+1) % 100 == 0:\n",
    "            print ('Epoch is {}/{}, Step is {}/{}, Loss is: {:.4f}'.format(epoch+1, num_epochs, iter+1, len(train_dataloader), loss.item()))\n",
    "    pass\n",
    "    "
   ]
  },
  {
   "cell_type": "markdown",
   "metadata": {},
   "source": [
    "### Testing the model accuracy\n",
    "\n",
    "Now that the model is trained, test the model accuracy. Print out the model accuracy, as an additional check ensure that accuracy is atleast 95% for the given parameters."
   ]
  },
  {
   "cell_type": "code",
   "execution_count": 7,
   "metadata": {},
   "outputs": [
    {
     "name": "stdout",
     "output_type": "stream",
     "text": [
      "Accuracy is: 97.05 %\n"
     ]
    }
   ],
   "source": [
    "with torch.no_grad():\n",
    "    true = 0\n",
    "    total_num = 0\n",
    "    for images, labels in test_dataloader:\n",
    "        images = images.reshape(-1, 28*28)\n",
    "        outputs = model(images)\n",
    "        _, predicted = torch.max(outputs.data, 1)\n",
    "        total_num= total_num+labels.size(0)\n",
    "        true =true+ (predicted == labels).sum().item()\n",
    "\n",
    "    print('Accuracy is: {} %'.format(100 * true / total_num))\n",
    "    pass"
   ]
  },
  {
   "cell_type": "code",
   "execution_count": null,
   "metadata": {},
   "outputs": [],
   "source": []
  }
 ],
 "metadata": {
  "kernelspec": {
   "display_name": "Python 3",
   "language": "python",
   "name": "python3"
  },
  "language_info": {
   "codemirror_mode": {
    "name": "ipython",
    "version": 3
   },
   "file_extension": ".py",
   "mimetype": "text/x-python",
   "name": "python",
   "nbconvert_exporter": "python",
   "pygments_lexer": "ipython3",
   "version": "3.6.5"
  }
 },
 "nbformat": 4,
 "nbformat_minor": 2
}
