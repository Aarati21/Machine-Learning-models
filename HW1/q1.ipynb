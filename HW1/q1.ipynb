{
 "cells": [
  {
   "cell_type": "code",
   "execution_count": 4,
   "metadata": {},
   "outputs": [
    {
     "name": "stdout",
     "output_type": "stream",
     "text": [
      "b0 =  3.9054054054054066 ,   b1 = 2.77027027027027\n",
      "y= 3.905405 + 2.770270x\n"
     ]
    }
   ],
   "source": [
    "#Problem 1b)\n",
    "import numpy as np\n",
    "import matplotlib.pyplot as plt\n",
    "from numpy.linalg import inv\n",
    "\n",
    "dataset=np.genfromtxt('https://canvas.cmu.edu/courses/6620/files/2805738/download?verifier=tjgMcNgaIPUXycexY1ubiFP0RR17xo7ZFFb8GKhR&wrap=1', delimiter=\",\")\n",
    "X1= np.array([0,1,2,3,5])\n",
    "Y= np.array([4,7,9,12,18])\n",
    "n = len(X1)\n",
    "X0=np.ones((n))\n",
    "X=np.column_stack((X0,X1))\n",
    "\n",
    "\n",
    "#using normal equations\n",
    "XT = np.transpose(X)\n",
    "t = np.linalg.inv(XT.dot(X))\n",
    "t = t.dot(XT)\n",
    "t = t.dot(Y)\n",
    "\n",
    "print(\"b0 = \",t[0], \",   b1 =\",t[1])\n",
    "print(\"y= %f + %fx\" % (t[0],t[1]))\n"
   ]
  },
  {
   "cell_type": "code",
   "execution_count": 3,
   "metadata": {},
   "outputs": [
    {
     "name": "stdout",
     "output_type": "stream",
     "text": [
      "b0 =  7.99102098226934 ,   b1 = 1.3224310227553822\n",
      "y= 7.991021 + 1.322431x\n"
     ]
    }
   ],
   "source": [
    "#Problem 1c)\n",
    "import numpy as np\n",
    "import matplotlib.pyplot as plt\n",
    "from numpy.linalg import inv\n",
    "\n",
    "dataset=np.genfromtxt('https://canvas.cmu.edu/courses/6620/files/2805738/download?verifier=tjgMcNgaIPUXycexY1ubiFP0RR17xo7ZFFb8GKhR&wrap=1', delimiter=\",\")\n",
    "X1= (dataset[:,0])\n",
    "Y= (dataset[:,1])\n",
    "n = len(X1)\n",
    "X0=np.ones((n))\n",
    "X=np.column_stack((X0,X1))\n",
    "\n",
    "\n",
    "#using normal equations\n",
    "XT = np.transpose(X)\n",
    "t = np.linalg.inv(XT.dot(X))\n",
    "t = t.dot(XT)\n",
    "t = t.dot(Y)\n",
    "\n",
    "print(\"b0 = \",t[0], \",   b1 =\",t[1])\n",
    "print(\"y= %f + %fx\" % (t[0],t[1]))\n"
   ]
  },
  {
   "cell_type": "code",
   "execution_count": null,
   "metadata": {},
   "outputs": [],
   "source": []
  }
 ],
 "metadata": {
  "kernelspec": {
   "display_name": "Python 3",
   "language": "python",
   "name": "python3"
  },
  "language_info": {
   "codemirror_mode": {
    "name": "ipython",
    "version": 3
   },
   "file_extension": ".py",
   "mimetype": "text/x-python",
   "name": "python",
   "nbconvert_exporter": "python",
   "pygments_lexer": "ipython3",
   "version": "3.6.5"
  }
 },
 "nbformat": 4,
 "nbformat_minor": 2
}
