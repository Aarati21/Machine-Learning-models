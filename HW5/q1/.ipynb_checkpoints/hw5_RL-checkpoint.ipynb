{
 "cells": [
  {
   "cell_type": "code",
   "execution_count": 1,
   "metadata": {},
   "outputs": [],
   "source": [
    "from frozen_lake import FrozenLakeEnv\n",
    "import numpy as np\n",
    "import sys"
   ]
  },
  {
   "cell_type": "code",
   "execution_count": 2,
   "metadata": {},
   "outputs": [
    {
     "name": "stdout",
     "output_type": "stream",
     "text": [
      "State space of the Env:  16\n",
      "State space of the Env by accessing env.nS:  16\n",
      "Action space of the Env:  4\n"
     ]
    }
   ],
   "source": [
    "env = FrozenLakeEnv(map_name=\"4x4\", is_slippery=False)\n",
    "\n",
    "# Access the number of states:\n",
    "nS = env.observation_space\n",
    "print(\"State space of the Env: \", nS)\n",
    "# or you could even use \n",
    "nS = env.nS\n",
    "print(\"State space of the Env by accessing env.nS: \", nS)\n",
    "\n",
    "# Action space of the agent:\n",
    "nA = env.nA\n",
    "print(\"Action space of the Env: \", nA)"
   ]
  },
  {
   "cell_type": "code",
   "execution_count": 3,
   "metadata": {},
   "outputs": [
    {
     "name": "stdout",
     "output_type": "stream",
     "text": [
      "Transition Probabilty:  1.0\n",
      "Next State:  8\n",
      "Reward:  0.0\n",
      "Episode ended? :  False\n"
     ]
    }
   ],
   "source": [
    "\"\"\"\n",
    "For policy iteration, you would need to access\n",
    "State(s), Action(a), Next State(ns), Reward(r), episode ended? (is_done) tuples.\n",
    "\n",
    "Note that in this environment, the orientation of the agent does not matter.\n",
    "No matter what direction the agent is facing, if a left action is performed, \n",
    "the agent moves to the left of the current state.\n",
    "\"\"\"\n",
    "# For actions, this is the corresponding dictionary:\n",
    "action_names = {0:'L', 1:'D', 2:\"R\", 3:\"U\"}\n",
    "\"\"\"\n",
    "Here, \n",
    "'L' means left\n",
    "'D' means down\n",
    "'R' means right\n",
    "'U' means up\n",
    "\n",
    "You can access these tuples by simply env.P[s][a],\n",
    "where 's' is state, and 'a' is action. For example, let's say we are at state '4',\n",
    "and we take an action '1' or \"Down\". The next state (ns) would be 8, the episode would not have ended (is_done), \n",
    "the reward (r) is 0 and the transition probabilty (prob) is 1 because this is a deterministic setting.\n",
    "\"\"\"\n",
    "\n",
    "prob, ns, r, is_done = env.P[4][1][0]\n",
    "print(\"Transition Probabilty: \", prob)\n",
    "print(\"Next State: \", ns)\n",
    "print(\"Reward: \", r)\n",
    "print(\"Episode ended? : \", is_done)\n",
    "# Note that we need to add a [0] after env.P[s][a] because it returns a list containing the tuple"
   ]
  },
  {
   "cell_type": "code",
   "execution_count": 4,
   "metadata": {},
   "outputs": [],
   "source": [
    "def print_policy(policy, action_names, states):\n",
    "    \"\"\"Print the policy in human-readable format.\n",
    "    If you've implemented this correctly, the output (for 4x4 map) should be:\n",
    "    \n",
    "    D R D L \n",
    "    D L D L \n",
    "    R D D L \n",
    "    L R R L \n",
    "    \n",
    "    Parameters\n",
    "    ----------\n",
    "    policy: np.ndarray\n",
    "        Array of state to action number mappings\n",
    "    action_names: dict\n",
    "        Mapping of action numbers to characters representing the action.\n",
    "    num_states: int\n",
    "        Number of states in the FrozenLakeEnvironment (16 or 64 for 4x4 or 8x8 maps respectively)      \n",
    "    \"\"\"\n",
    "    if states==16:\n",
    "        k=4\n",
    "    else:\n",
    "        k=8\n",
    "    policystring = policy.astype('str')#converts entire array into string\n",
    "    for i,j in action_names.items():\n",
    "        np.place(policystring, policy == i,j)\n",
    "    \n",
    "    print(policystring.reshape(k,k))\n",
    "    pass"
   ]
  },
  {
   "cell_type": "code",
   "execution_count": 5,
   "metadata": {},
   "outputs": [],
   "source": [
    "def evaluate_policy_sync(env, gamma, policy, max_iterations=int(1e3), tol=1e-3):\n",
    "    \"\"\"Performs policy evaluation.\n",
    "    Evaluates the value of a given policy.\n",
    "    Parameters\n",
    "    ----------\n",
    "    env: Frozen Lake Environment\n",
    "      The environment to compute value iteration for.\n",
    "    gamma: float\n",
    "      Discount factor, must be in range [0, 1)\n",
    "    policy: np.array\n",
    "      The policy to evaluate. Maps states to actions.\n",
    "    max_iterations: int\n",
    "      The maximum number of iterations to run before stopping.\n",
    "    tol: float\n",
    "      Determines when value function has converged.\n",
    "\n",
    "    Returns\n",
    "    -------\n",
    "    np.ndarray, int\n",
    "      The value for the given policy and the number of iterations till\n",
    "      the value function converged.\n",
    "    \"\"\"\n",
    "    value_function = np.zeros(nS)\n",
    "    val_iter = 0\n",
    "    for val_iter in range(max_iterations):\n",
    "        i=0\n",
    "        for state in range(nS):\n",
    "            old_valuefunction=value_function[state]\n",
    "            action=policy[state]\n",
    "            value=0\n",
    "            for (p, n, r, _) in env.P[state][action]:\n",
    "                value=value+p*(r+gamma*value_function[n])\n",
    "            value_function[state]=value\n",
    "            i = max(i, abs(value-old_valuefunction))\n",
    "        if i < tol:\n",
    "            break\n",
    "    \n",
    "    return value_function, val_iter\n",
    "\n"
   ]
  },
  {
   "cell_type": "code",
   "execution_count": 6,
   "metadata": {},
   "outputs": [],
   "source": [
    "def improve_policy(env, gamma, value_func, policy):\n",
    "    \"\"\"Performs policy improvement.\n",
    "    \n",
    "    Given a policy and value function, improves the policy.\n",
    "\n",
    "    Parameters\n",
    "    ----------\n",
    "    env: Frozen Lake Environment\n",
    "      The environment to compute value iteration for.\n",
    "    gamma: float\n",
    "      Discount factor, must be in range [0, 1)\n",
    "    value_func: np.ndarray\n",
    "      Value function for the given policy.\n",
    "    policy: dict or np.array\n",
    "      The policy to improve. Maps states to actions.\n",
    "\n",
    "    Returns\n",
    "    -------\n",
    "    bool, np.ndarray\n",
    "      Returns true if policy changed. Also returns the new policy.\n",
    "    \"\"\"\n",
    "    change=False\n",
    "    for state in range(nS):\n",
    "        initial_action = policy[state]\n",
    "        actions = []\n",
    "        for action in range(nA):\n",
    "            value = 0\n",
    "            \n",
    "            for (p, n, r, _) in env.P[state][action]:\n",
    "                value=value+p*(r+gamma*value_func[n])\n",
    "            actions.append(value)  \n",
    "        action_final = np.argmax(actions)\n",
    "        if action_final!=initial_action:\n",
    "            policy[state] = action_final\n",
    "            change = True\n",
    "    return change, policy\n",
    "    pass "
   ]
  },
  {
   "cell_type": "code",
   "execution_count": 7,
   "metadata": {},
   "outputs": [],
   "source": [
    "def policy_iteration_sync(env, gamma, max_iterations=int(1e3), tol=1e-3):\n",
    "    \"\"\"Runs policy iteration.\n",
    "\n",
    "    See page 85 of the Sutton & Barto Second Edition book.\n",
    "\n",
    "    You should use the improve_policy() and evaluate_policy_sync() methods to\n",
    "    implement this method.\n",
    "    \n",
    "    If you've implemented this correctly, it should take much less than 1 second.\n",
    "    \n",
    "    Parameters\n",
    "    ----------\n",
    "    env: Frozen Lake Environment\n",
    "      The environment to compute value iteration for.\n",
    "    gamma: float\n",
    "      Discount factor, must be in range [0, 1)\n",
    "    max_iterations: int\n",
    "      The maximum number of iterations to run before stopping.\n",
    "    tol: float\n",
    "      Determines when value function has converged.\n",
    "\n",
    "    Returns\n",
    "    -------\n",
    "    (np.ndarray, np.ndarray, int, int)\n",
    "       Returns optimal policy, value function, number of policy\n",
    "       improvement iterations, and number of value iterations.\n",
    "    \"\"\"\n",
    "    policy = np.zeros(nS, dtype='int')\n",
    "    value_func = np.zeros(nS)\n",
    "    \n",
    "    num_pol_iter = 0\n",
    "    num_val_iter = 0\n",
    "    l=[]\n",
    "\n",
    "    for num_pol_iter in range(max_iterations):\n",
    "        prev_policy=policy.copy()\n",
    "        value_func, iteration=evaluate_policy_sync(env, gamma, policy)\n",
    "        changed, policy = improve_policy(env, gamma, value_func, policy)\n",
    "        num_val_iter= num_val_iter+iteration\n",
    "        \n",
    "        if not changed:\n",
    "            break\n",
    "   \n",
    "    return policy, value_func, num_pol_iter, num_val_iter\n",
    "    \n",
    "    "
   ]
  },
  {
   "cell_type": "code",
   "execution_count": 8,
   "metadata": {},
   "outputs": [],
   "source": [
    "def policy_iteration_plot(env, gamma, max_iterations=int(1e3), tol=1e-3):\n",
    "    \"\"\"Runs policy iteration.\n",
    "\n",
    "    See page 85 of the Sutton & Barto Second Edition book.\n",
    "\n",
    "    You should use the improve_policy() and evaluate_policy_sync() methods to\n",
    "    implement this method.\n",
    "    \n",
    "    If you've implemented this correctly, it should take much less than 1 second.\n",
    "    \n",
    "    Parameters\n",
    "    ----------\n",
    "    env: Frozen Lake Environment\n",
    "      The environment to compute value iteration for.\n",
    "    gamma: float\n",
    "      Discount factor, must be in range [0, 1)\n",
    "    max_iterations: int\n",
    "      The maximum number of iterations to run before stopping.\n",
    "    tol: float\n",
    "      Determines when value function has converged.\n",
    "\n",
    "    Returns\n",
    "    -------\n",
    "    (np.ndarray, np.ndarray, int, int)\n",
    "       Returns optimal policy, value function, number of policy\n",
    "       improvement iterations, and number of value iterations.\n",
    "    \"\"\"\n",
    "    policy = np.zeros(nS, dtype='int')\n",
    "    value_func = np.zeros(nS)\n",
    "    num_pol_iter = 0\n",
    "    num_val_iter = 0\n",
    "    l=[]\n",
    "    for num_pol_iter in range(max_iterations):\n",
    "        prev_policy=policy.copy()\n",
    "        value_func, iteration=evaluate_policy_sync(env, gamma, policy)\n",
    "       \n",
    "        changed, policy = improve_policy(env, gamma, value_func, policy)\n",
    "        l.append(value_func)\n",
    "        if not changed:\n",
    "            break\n",
    "    l1=np.asarray(l)\n",
    "    fig=plt.figure(figsize=(10,5))\n",
    "    for i in range(nS):\n",
    "        plt.plot(l1[:,i], label=i, marker='o')\n",
    "    \n",
    "           \n",
    "    plt.xlabel('policy iterations')\n",
    "    plt.ylabel('value function')\n",
    "    plt.title('Value function vs policy iterations for each state')\n",
    "    #plt.legend(list(range(1, 65)))\n",
    "    plt.show()\n",
    "    pass\n",
    "    \n",
    "    "
   ]
  },
  {
   "cell_type": "code",
   "execution_count": 9,
   "metadata": {},
   "outputs": [
    {
     "name": "stdout",
     "output_type": "stream",
     "text": [
      "For the 4*4 map: \n",
      "The time taken for execution is  0.0019950867 s\n",
      "In total, there were 7 policy improvement steps and 22 policy evaluation steps\n",
      "The optimal policy is:\n",
      "[['D' 'R' 'D' 'L']\n",
      " ['D' 'L' 'D' 'L']\n",
      " ['R' 'D' 'D' 'L']\n",
      " ['L' 'R' 'R' 'L']]\n",
      "The value function  is shown as:\n",
      "[[0.59049 0.6561  0.729   0.6561 ]\n",
      " [0.6561  0.      0.81    0.     ]\n",
      " [0.729   0.81    0.9     0.     ]\n",
      " [0.      0.9     1.      0.     ]]\n"
     ]
    }
   ],
   "source": [
    "import time\n",
    "import matplotlib.pyplot as plt\n",
    "\n",
    "\n",
    "def main1():    \n",
    "    gamma = 0.9\n",
    "    env = FrozenLakeEnv(map_name=\"4x4\", is_slippery=False)\n",
    "    nS = env.observation_space\n",
    "    nS = env.nS\n",
    "    nA = env.nA\n",
    "    initial_time = time.time()\n",
    "    \n",
    "    policy, value_func1,num_pol_iter, num_val_iter = policy_iteration_sync(env, gamma)\n",
    "    end_time=time.time()-initial_time\n",
    "    print(\"For the 4*4 map: \")\n",
    "    print(\"The time taken for execution is  {0:.10f} s\" .format(end_time))\n",
    "    print(\"In total, there were %d policy improvement steps and %d policy evaluation steps\" % (num_pol_iter+1, num_val_iter+1))\n",
    "    print(\"The optimal policy is:\")\n",
    "    print_policy(policy, action_names, nS)\n",
    "    print(\"The value function  is shown as:\")\n",
    "    print(value_func1.reshape(4,4))\n",
    "    \n",
    "\n",
    "    pass\n",
    "   \n",
    "main1()"
   ]
  },
  {
   "cell_type": "code",
   "execution_count": 10,
   "metadata": {},
   "outputs": [
    {
     "name": "stdout",
     "output_type": "stream",
     "text": [
      "Value function in color for a 4*4 map is\n"
     ]
    },
    {
     "data": {
      "image/png": "[encoded data removed]",
      "text/plain": [
       "<Figure size 432x288 with 2 Axes>"
      ]
     },
     "metadata": {},
     "output_type": "display_data"
    },
    {
     "name": "stdout",
     "output_type": "stream",
     "text": [
      "A graph showing value function vs policy iteration for each state for a  4×4 map\n"
     ]
    },
    {
     "data": {
      "image/png": "[encoded data removed]",
      "text/plain": [
       "<Figure size 720x360 with 1 Axes>"
      ]
     },
     "metadata": {},
     "output_type": "display_data"
    }
   ],
   "source": [
    "import matplotlib.pyplot as plt\n",
    "gamma=0.9\n",
    "policy, value_func,num_pol_iter, num_val_iter = policy_iteration_sync(env, gamma)\n",
    "image=value_func.reshape(4,4)\n",
    "print(\"Value function in color for a 4*4 map is\")\n",
    "plt.imshow(image, cmap=\"ocean\")\n",
    "plt.colorbar()\n",
    "plt.show()\n",
    "print(\"A graph showing value function vs policy iteration for each state for a  4×4 map\")\n",
    "policy_iteration_plot(env, gamma, max_iterations=int(1e3), tol=1e-3)"
   ]
  },
  {
   "cell_type": "code",
   "execution_count": 11,
   "metadata": {},
   "outputs": [
    {
     "name": "stdout",
     "output_type": "stream",
     "text": [
      "State space of the Env by accessing env.nS:  64\n",
      "Action space of the Env:  4\n",
      "Transition Probabilty:  1.0\n",
      "Next State:  16\n",
      "Reward:  0.0\n",
      "Episode ended? :  False\n"
     ]
    }
   ],
   "source": [
    "env = FrozenLakeEnv(map_name=\"8x8\", is_slippery=False)\n",
    "\n",
    "# Access the number of states:\n",
    "nS = env.observation_space\n",
    "#print(\"State space of the Env: \", nS)\n",
    "# or you could even use \n",
    "nS = env.nS\n",
    "print(\"State space of the Env by accessing env.nS: \", nS)\n",
    "\n",
    "# Action space of the agent:\n",
    "nA = env.nA\n",
    "print(\"Action space of the Env: \", nA)\n",
    "action_names = {0:'L', 1:'D', 2:\"R\", 3:\"U\"}\n",
    "\"\"\"\n",
    "Here, \n",
    "'L' means left\n",
    "'D' means down\n",
    "'R' means right\n",
    "'U' means up\n",
    "\n",
    "You can access these tuples by simply env.P[s][a],\n",
    "where 's' is state, and 'a' is action. For example, let's say we are at state '4',\n",
    "and we take an action '1' or \"Down\". The next state (ns) would be 8, the episode would not have ended (is_done), \n",
    "the reward (r) is 0 and the transition probabilty (prob) is 1 because this is a deterministic setting.\n",
    "\"\"\"\n",
    "\n",
    "prob, ns, r, is_done = env.P[8][1][0]\n",
    "print(\"Transition Probabilty: \", prob)\n",
    "print(\"Next State: \", ns)\n",
    "print(\"Reward: \", r)\n",
    "print(\"Episode ended? : \", is_done)"
   ]
  },
  {
   "cell_type": "code",
   "execution_count": 12,
   "metadata": {},
   "outputs": [
    {
     "name": "stdout",
     "output_type": "stream",
     "text": [
      "For the 8*8 map: \n",
      "The time taken for execution is  0.043878793716430664 s\n",
      "In total, there were 15 policy improvement steps and 106 policy evaluation steps\n",
      "The optimal policy is:\n",
      "[['D' 'D' 'D' 'D' 'D' 'D' 'D' 'D']\n",
      " ['D' 'D' 'D' 'R' 'D' 'D' 'D' 'D']\n",
      " ['D' 'D' 'D' 'L' 'D' 'R' 'D' 'D']\n",
      " ['R' 'R' 'R' 'R' 'D' 'L' 'D' 'D']\n",
      " ['R' 'R' 'U' 'L' 'D' 'D' 'R' 'D']\n",
      " ['D' 'L' 'L' 'R' 'R' 'D' 'L' 'D']\n",
      " ['D' 'L' 'R' 'U' 'L' 'D' 'L' 'D']\n",
      " ['R' 'R' 'U' 'L' 'R' 'R' 'R' 'L']]\n",
      "The value function  is shown as:\n",
      "[[0.25418658 0.28242954 0.3138106  0.34867844 0.38742049 0.43046721\n",
      "  0.4782969  0.531441  ]\n",
      " [0.28242954 0.3138106  0.34867844 0.38742049 0.43046721 0.4782969\n",
      "  0.531441   0.59049   ]\n",
      " [0.3138106  0.34867844 0.38742049 0.         0.4782969  0.531441\n",
      "  0.59049    0.6561    ]\n",
      " [0.34867844 0.38742049 0.43046721 0.4782969  0.531441   0.\n",
      "  0.6561     0.729     ]\n",
      " [0.3138106  0.34867844 0.38742049 0.         0.59049    0.6561\n",
      "  0.729      0.81      ]\n",
      " [0.28242954 0.         0.         0.59049    0.6561     0.729\n",
      "  0.         0.9       ]\n",
      " [0.3138106  0.         0.4782969  0.531441   0.         0.81\n",
      "  0.         1.        ]\n",
      " [0.34867844 0.38742049 0.43046721 0.         0.81       0.9\n",
      "  1.         0.        ]]\n"
     ]
    }
   ],
   "source": [
    "def main2():    \n",
    "    gamma = 0.9\n",
    "    \n",
    "    \n",
    "    initial_time = time.time()\n",
    "    policy, value_func1,num_pol_iter, num_val_iter = policy_iteration_sync(env, gamma)\n",
    "    end_time=time.time()\n",
    "    print(\"For the 8*8 map: \")\n",
    "    print(\"The time taken for execution is  %s s\" % (end_time-initial_time))\n",
    "    print(\"In total, there were %d policy improvement steps and %d policy evaluation steps\" % (num_pol_iter+1, num_val_iter+1))\n",
    "    print(\"The optimal policy is:\")\n",
    "    print_policy(policy, action_names, nS)\n",
    "    print(\"The value function  is shown as:\")\n",
    "    print(value_func1.reshape(8,8))\n",
    "    pass\n",
    "   \n",
    "main2()"
   ]
  },
  {
   "cell_type": "code",
   "execution_count": 13,
   "metadata": {},
   "outputs": [
    {
     "name": "stdout",
     "output_type": "stream",
     "text": [
      "Value function in color for a 8*8 map is\n"
     ]
    },
    {
     "data": {
      "image/png": "[encoded data removed]",
      "text/plain": [
       "<Figure size 432x288 with 2 Axes>"
      ]
     },
     "metadata": {},
     "output_type": "display_data"
    },
    {
     "name": "stdout",
     "output_type": "stream",
     "text": [
      "A graph showing value function vs policy iteration for each state for a  8*8 map\n"
     ]
    },
    {
     "data": {
      "image/png": "[encoded data removed]",
      "text/plain": [
       "<Figure size 720x360 with 1 Axes>"
      ]
     },
     "metadata": {},
     "output_type": "display_data"
    }
   ],
   "source": [
    "import matplotlib.pyplot as plt\n",
    "gamma=0.9\n",
    "policy, value_func,num_pol_iter, num_val_iter = policy_iteration_sync(env, gamma)\n",
    "image=value_func.reshape(8,8)\n",
    "print(\"Value function in color for a 8*8 map is\")\n",
    "plt.imshow(image, cmap=\"ocean\")\n",
    "plt.colorbar()\n",
    "plt.show()\n",
    "print(\"A graph showing value function vs policy iteration for each state for a  8*8 map\")\n",
    "policy_iteration_plot(env, gamma, max_iterations=int(1e3), tol=1e-3)"
   ]
  },
  {
   "cell_type": "markdown",
   "metadata": {},
   "source": [
    "3b)observations from the graphs: Policy iteration is guaranteed to converge and at convergenece,  the policy and its value function are considered the optimum policy and optimal value function. The policy improves in every step and a given policy is encountered only once until convergence. It takes relatively few steps to converge."
   ]
  }
 ],
 "metadata": {
  "kernelspec": {
   "display_name": "Python 3",
   "language": "python",
   "name": "python3"
  },
  "language_info": {
   "codemirror_mode": {
    "name": "ipython",
    "version": 3
   },
   "file_extension": ".py",
   "mimetype": "text/x-python",
   "name": "python",
   "nbconvert_exporter": "python",
   "pygments_lexer": "ipython3",
   "version": "3.6.5"
  }
 },
 "nbformat": 4,
 "nbformat_minor": 2
}
